{
  "nbformat": 4,
  "nbformat_minor": 0,
  "metadata": {
    "colab": {
      "provenance": [],
      "authorship_tag": "ABX9TyPvyVCOMUP7bTyIBxImg7WY",
      "include_colab_link": true
    },
    "kernelspec": {
      "name": "python3",
      "display_name": "Python 3"
    },
    "language_info": {
      "name": "python"
    }
  },
  "cells": [
    {
      "cell_type": "markdown",
      "metadata": {
        "id": "view-in-github",
        "colab_type": "text"
      },
      "source": [
        "<a href=\"https://colab.research.google.com/github/malysheva8434/python_files/blob/main/HW_Malysheva_Tatiana_ALATA22.ipynb\" target=\"_parent\"><img src=\"https://colab.research.google.com/assets/colab-badge.svg\" alt=\"Open In Colab\"/></a>"
      ]
    },
    {
      "cell_type": "code",
      "execution_count": null,
      "metadata": {
        "id": "xCfJAoL2Db0a"
      },
      "outputs": [],
      "source": []
    },
    {
      "cell_type": "code",
      "source": [],
      "metadata": {
        "id": "ecjbktC8EgS-"
      },
      "execution_count": null,
      "outputs": []
    },
    {
      "cell_type": "code",
      "source": [
        "import nltk \n",
        "nltk.download('punkt')\n",
        "nltk.download('wordnet')\n",
        "nltk.download('omw-1.4')\n",
        "nltk.download('stopwords')\n",
        "    \n",
        "from nltk.tag import pos_tag\n",
        "nltk.download('universal_tagset')\n",
        "nltk.download('averaged_perceptron_tagger')\n",
        "\n",
        "from nltk.stem import WordNetLemmatizer \n",
        "wordnet_lemmatizer = WordNetLemmatizer() "
      ],
      "metadata": {
        "colab": {
          "base_uri": "https://localhost:8080/"
        },
        "id": "wikABozcHP57",
        "outputId": "146acde2-d47c-431a-f05d-f719919cfd7c"
      },
      "execution_count": 2,
      "outputs": [
        {
          "output_type": "stream",
          "name": "stderr",
          "text": [
            "[nltk_data] Downloading package punkt to /root/nltk_data...\n",
            "[nltk_data]   Package punkt is already up-to-date!\n",
            "[nltk_data] Downloading package wordnet to /root/nltk_data...\n",
            "[nltk_data]   Package wordnet is already up-to-date!\n",
            "[nltk_data] Downloading package omw-1.4 to /root/nltk_data...\n",
            "[nltk_data]   Package omw-1.4 is already up-to-date!\n",
            "[nltk_data] Downloading package stopwords to /root/nltk_data...\n",
            "[nltk_data]   Package stopwords is already up-to-date!\n",
            "[nltk_data] Downloading package universal_tagset to /root/nltk_data...\n",
            "[nltk_data]   Package universal_tagset is already up-to-date!\n",
            "[nltk_data] Downloading package averaged_perceptron_tagger to\n",
            "[nltk_data]     /root/nltk_data...\n",
            "[nltk_data]   Package averaged_perceptron_tagger is already up-to-\n",
            "[nltk_data]       date!\n"
          ]
        }
      ]
    },
    {
      "cell_type": "code",
      "source": [
        "from google.colab import drive\n",
        "drive.mount('/content/drive',force_remount=True)\n",
        "with open('/content/drive/MyDrive/Colab Notebooks/war.txt', 'r') as f:\n",
        "  my_text = f.read()\n",
        "  print(my_text)"
      ],
      "metadata": {
        "colab": {
          "base_uri": "https://localhost:8080/"
        },
        "id": "-4UGNRRZNanf",
        "outputId": "0b07b120-d0ab-4c76-dd1c-ae730044bdf7"
      },
      "execution_count": 3,
      "outputs": [
        {
          "output_type": "stream",
          "name": "stdout",
          "text": [
            "Mounted at /content/drive\n",
            "We are in camp five miles behind the line. Yesterday our relief arrived; now our bellies are full of bully beef and beans, we’ve had enough to eat and we’re well satisfied. We were even able to fill up a mess-tin for later, every one of us, and there are double rations of sausage and bread as well – that will keep us going. We haven’t had a stroke of luck like this for ages; the cook-sergeant, the one with the ginger hair, is actually offering to dish out food, beckoning with his serving ladle to anyone who comes near him and giving him a massive helping. He’s getting a bit worried because he can’t see how he’s going to empty his cooking pot. Tjaden and Muller have dug out a couple of washing bowls from somewhere and got him to fill them up to the brim as a reserve supply. Tjaden does things like that out of sheer greed; with Muller it’s a precaution. Nobody knows where Tjaden puts it all. He’s as thin as a rake and he always has been.\n",
            "The most important thing, though, is that there are double rations of tobacco as well. Ten cigars, twenty cigarettes and two plugs of chewing tobacco for everyone, and that’s a decent amount. I’ve swapped my chewing tobacco with Katczinsky for his cigarettes, and that gives me forty. You can last a day on that.\n",
            "And on top of it all, we’re not really entitled to this lot. The army is never that good to us. We’ve only got it because of a mistake.\n",
            "Fourteen days ago we were sent up the line as relief troops. It was pretty quiet in our sector, and because of that the quartermaster drew the normal quantity of food for the day we were due back, and he catered for the full company of a hundred and fifty men. But then, on the very last day, we were taken by surprise by long-range shelling from the heavy artillery. The English guns kept on pounding our position, so we lost a lot of men, and only eighty of us came back.\n",
            "It was night-time when we came in, and the first thing we did was get our heads down so that we could get a good night’s sleep. Katczinsky is right when he says that the war wouldn’t be nearly as bad if we could only get more sleep. But there is no chance of that at the front, and two weeks for every spell in the line is a long time.\n",
            "It was already midday when the first of us crawled out of the huts. Within half an hour every man had his mess-tin in his hand and we were fining up by the cookhouse, where there was a smell of proper food cooked in good fat. Needless to say, the hungriest were at the front of the queue: little Albert Kropp, who is the cleverest of us, and was the first one to make it to acting lance-corporal. Then Muller – one of the five boys called that at our school – who still lugs his textbooks about with him and dreams about taking his school leaving diploma later under the special regulations. He even swots up physics formulae when there is a barrage going on. Then Leer, who has a beard, and is obsessed with the girls from the officers-only knocking-shops; he swears that they are obliged by army regulations to wear silk slips, and that they have to take a bath before entertaining any guest with the rank of captain or above. And fourthly me, Paul Baumer. All four of us are nineteen years old, and all four of us went straight out of the same class at school into the war.\n",
            "Close behind us are our friends. Tjaden, a skinny locksmith who is the same age as us and the biggest glutton in the company. He’s thin when he sits down to eat and when he gets up again he’s got a pot-belly; Haie Westhus, the same age, a peat-digger, who can quite easily hold an army-issue loaf in one great paw and ask, ‘Guess what I’ve got in my hand?’; Detering, a farmer, who thinks about nothing but his bit of land and his wife; and finally Stanislaus Katczinsky, leader of our group, tough, crafty, shrewd, forty years old, with an earthy face, blue eyes, sloping shoulders and an amazing nose for trouble, good food and cushy jobs.\n",
            "Our group was at the head of the grub queue. We were getting impatient, because the cook-sergeant didn’t know what was going on and was still standing there waiting.\n",
            "In the end Katczinsky shouted to him, ‘Come on, mate, open up your soup kitchen! Anyone can see the beans are done!’ But he just shook his head dozily. ‘You’ve all got to be here first.’ Tjaden grinned. ‘We are all here.’\n",
            "The cook-sergeant still didn’t get it. ‘That would suit you nicely, wouldn’t it. Come on, where are the rest?’\n",
            "‘They won’t be getting served by you today. It’s either a field hospital or a mass grave for them.’\n",
            "The cook was pretty shaken when he heard what had happened. He wasn’t so sure of himself any more. ‘But I cooked for a hundred and fifty men.’\n",
            "Kropp elbowed him in the ribs. ‘So for once we’ll get enough to eat. Right, get on with it!’\n",
            "Suddenly a light dawned in Tjaden’s eyes. His pointed, mouselike face positively glowed, his eyes narrowed with cunning, his cheeks twitched and he moved in closer. ‘Bloody hell, then you must have drawn bread rations for a hundred and fifty men as well, right?’\n",
            "The cook-sergeant nodded, confused and not thinking. Tjaden grabbed him by the tunic. ‘Sausage, too?’ Another nod from Ginger. Tjaden’s jaw was trembling. ‘And tobacco?’ ‘Yes, the whole lot.’\n",
            "Tjaden looked round, beaming all over his face. ‘Christ Almighty, now that’s what I call a bit of luck! Then all that stuff has to be for us! Everyone gets – hang on – right, exactly double of everything!’\n",
            "When he heard that the ginger-headed cook-sergeant realized what was up, and told us that it wasn’t on. By now we were getting a bit restive, and pushed forward. ‘Why isn’t it on, carrot-top?’ Katczinsky wanted to know. ‘Eighty men can’t have the rations for a hundred and fifty.’ ‘We’ll soon show you,’ growled Muller.\n",
            "‘I wouldn’t mind about the meal, but I can only give out the other rations for eighty,’ insisted Ginger. Katczinsky was getting annoyed. ‘Is it time they pensioned you off, or what? You didn’t draw provisions for eighty men, you drew them for В Company, and that’s that. So now you can issue them. We are В Company.’\n",
            "We started to crowd him. He wasn’t too popular – it was thanks to him that in the trenches we’d more than once got our food far too late, and cold into the bargain, just because he didn’t dare bring his field kitchen close enough in when there was a little bit of shellfire; and that meant that our men had to make a far longer trip to fetch the food than those from other companies. On that score Bulcke, from A Company, was much better. It’s true that he was as fat as a hamster in winter, but he used to carry the cooking-pots right to the front line himself if he had to.\n",
            "\n"
          ]
        }
      ]
    },
    {
      "cell_type": "code",
      "source": [
        "from nltk.stem import PorterStemmer\n",
        "from nltk.stem import LancasterStemmer\n",
        "\n",
        "\n",
        "porter = PorterStemmer()\n",
        "lancaster=LancasterStemmer()\n",
        "\n",
        "text1=my_text.split('.')\n",
        "text1=text1[:4]\n",
        "text1 = \".\".join(text1)\n",
        "print(text1)\n",
        "\n",
        "from nltk.tokenize import word_tokenize \n",
        "text_tokens = word_tokenize(str(text1))\n",
        "text=text_tokens\n",
        "\n",
        "punctuations='.,\"-?:!;’'\n",
        "for word in text:\n",
        "    if word in punctuations:\n",
        "        text.remove(word)\n",
        "\n",
        "\n",
        "print(\"{0:20}{1:20}{2:20}\".format(\"Word\",\"Porter Stemmer\",\"lancaster Stemmer\"))\n",
        "for word in text:\n",
        "    print(\"{0:20}{1:20}{2:20}\".format(word,porter.stem(word),lancaster.stem(word)))\n",
        "\n",
        "from nltk.tag import pos_tag\n",
        "from nltk.stem import WordNetLemmatizer \n",
        "wordnet_lemmatizer = WordNetLemmatizer() \n",
        "     \n",
        "text = pos_tag(nltk.word_tokenize(text1), tagset='universal')\n",
        "print(text)\n",
        "\n",
        "for t in text: # t is a tuple here\n",
        "    if t[0] in punctuations:\n",
        "        text.remove(t)\n",
        "        \n",
        " \n",
        "pos_tags_dict = {'NOUN' : 'n', 'VERB' : 'v', 'ADJ' : 'a', 'ADV' : 'r'}\n",
        "\n",
        "# one letter pos tags are the only valid options for the lemmatizer\n",
        "# so we need this dictionary to change our universal tags to these\n",
        "\n",
        "text \n",
        "print(\"{0:20}{1:20}\".format(\"Word\",\"Lemma\")) \n",
        "for t in text: \n",
        "    pos_tag = pos_tags_dict.get(t[1], 'n') \n",
        "    # if our tag is not in the dictionary, we get 'n' which is the default tag for the lemmatizer\n",
        "    print (\"{0:20}{1:20}\".format(t[0],wordnet_lemmatizer.lemmatize(word=t[0], pos=pos_tag)))\n",
        "\n",
        "from nltk.corpus import stopwords \n",
        "text_tokens = word_tokenize(text1) \n",
        "for i in text_tokens: \n",
        "    if i[0] in punctuations:\n",
        "        text_tokens.remove(i)\n",
        "tokens_without_sw = [word.lower() for word in text_tokens if not word in stopwords.words('english')]\n",
        "#I have removed large letters from the text, as it will be without punctuation, and capital letters will look strange.\n",
        "tokens_without_sw=' '.join(tokens_without_sw)\n",
        "\n",
        "import nltk\n",
        "from nltk.stem import WordNetLemmatizer\n",
        "from nltk.corpus import wordnet\n",
        " \n",
        "lemmatizer = WordNetLemmatizer()\n",
        " \n",
        "# Define function to lemmatize each word with its POS tag\n",
        " \n",
        "# POS_TAGGER_FUNCTION \n",
        "def pos_tagger(nltk_tag):\n",
        "    if nltk_tag.startswith('J'):\n",
        "        return wordnet.ADJ\n",
        "    elif nltk_tag.startswith('V'):\n",
        "        return wordnet.VERB\n",
        "    elif nltk_tag.startswith('N'):\n",
        "        return wordnet.NOUN\n",
        "    elif nltk_tag.startswith('R'):\n",
        "        return wordnet.ADV\n",
        "    else:         \n",
        "        return None\n",
        "\n",
        "# tokenize the sentence and find the POS tag for each token\n",
        "pos_tagged = nltk.pos_tag(nltk.word_tokenize(tokens_without_sw)) \n",
        " \n",
        "print(pos_tagged)\n",
        "\n",
        "# As you may have noticed, the above pos tags are a little confusing.\n",
        " \n",
        "# we use our own pos_tagger function to make things simpler to understand.\n",
        "wordnet_tagged = list(map(lambda x: (x[0], pos_tagger(x[1])), pos_tagged))\n",
        "lemmatized_sentence = []\n",
        "for word, tag in wordnet_tagged:\n",
        "    if tag is None:\n",
        "        # if there is no available tag, append the token as is\n",
        "        lemmatized_sentence.append(word)\n",
        "    else:       \n",
        "        # else use the tag to lemmatize the token\n",
        "        lemmatized_sentence.append(lemmatizer.lemmatize(word, tag))\n",
        "lemmatized_sentence = \" \".join(lemmatized_sentence)\n",
        " \n",
        "#Then I would like to compare 2 texts: one of them is lemmatized and without stopwords and punctuation, another one is non-lemmatized with punctuation and stopwords.\n",
        "print('LEMMATIZED TEXT WITHOUT STOPWORDS AND PUNCTUATION: ', lemmatized_sentence)\n",
        "print('NON-LEMMATIZED TEXT WITH PUNCTUATION AND STOPWORDS:', text1)"
      ],
      "metadata": {
        "colab": {
          "base_uri": "https://localhost:8080/"
        },
        "id": "yl853YgpKHTq",
        "outputId": "7ea44546-2cf8-48e5-a606-e22e38fd4740"
      },
      "execution_count": 4,
      "outputs": [
        {
          "output_type": "stream",
          "name": "stdout",
          "text": [
            "We are in camp five miles behind the line. Yesterday our relief arrived; now our bellies are full of bully beef and beans, we’ve had enough to eat and we’re well satisfied. We were even able to fill up a mess-tin for later, every one of us, and there are double rations of sausage and bread as well – that will keep us going. We haven’t had a stroke of luck like this for ages; the cook-sergeant, the one with the ginger hair, is actually offering to dish out food, beckoning with his serving ladle to anyone who comes near him and giving him a massive helping\n",
            "Word                Porter Stemmer      lancaster Stemmer   \n",
            "We                  we                  we                  \n",
            "are                 are                 ar                  \n",
            "in                  in                  in                  \n",
            "camp                camp                camp                \n",
            "five                five                fiv                 \n",
            "miles               mile                mil                 \n",
            "behind              behind              behind              \n",
            "the                 the                 the                 \n",
            "line                line                lin                 \n",
            "Yesterday           yesterday           yesterday           \n",
            "our                 our                 our                 \n",
            "relief              relief              reliev              \n",
            "arrived             arriv               ar                  \n",
            "now                 now                 now                 \n",
            "our                 our                 our                 \n",
            "bellies             belli               bel                 \n",
            "are                 are                 ar                  \n",
            "full                full                ful                 \n",
            "of                  of                  of                  \n",
            "bully               bulli               bul                 \n",
            "beef                beef                beef                \n",
            "and                 and                 and                 \n",
            "beans               bean                bean                \n",
            "we                  we                  we                  \n",
            "ve                  ve                  ve                  \n",
            "had                 had                 had                 \n",
            "enough              enough              enough              \n",
            "to                  to                  to                  \n",
            "eat                 eat                 eat                 \n",
            "and                 and                 and                 \n",
            "we                  we                  we                  \n",
            "re                  re                  re                  \n",
            "well                well                wel                 \n",
            "satisfied           satisfi             satisfy             \n",
            "We                  we                  we                  \n",
            "were                were                wer                 \n",
            "even                even                ev                  \n",
            "able                abl                 abl                 \n",
            "to                  to                  to                  \n",
            "fill                fill                fil                 \n",
            "up                  up                  up                  \n",
            "a                   a                   a                   \n",
            "mess-tin            mess-tin            mess-tin            \n",
            "for                 for                 for                 \n",
            "later               later               lat                 \n",
            "every               everi               every               \n",
            "one                 one                 on                  \n",
            "of                  of                  of                  \n",
            "us                  us                  us                  \n",
            "and                 and                 and                 \n",
            "there               there               ther                \n",
            "are                 are                 ar                  \n",
            "double              doubl               doubl               \n",
            "rations             ration              rat                 \n",
            "of                  of                  of                  \n",
            "sausage             sausag              saus                \n",
            "and                 and                 and                 \n",
            "bread               bread               bread               \n",
            "as                  as                  as                  \n",
            "well                well                wel                 \n",
            "–                   –                   –                   \n",
            "that                that                that                \n",
            "will                will                wil                 \n",
            "keep                keep                keep                \n",
            "us                  us                  us                  \n",
            "going               go                  going               \n",
            "We                  we                  we                  \n",
            "haven               haven               hav                 \n",
            "t                   t                   t                   \n",
            "had                 had                 had                 \n",
            "a                   a                   a                   \n",
            "stroke              stroke              stroke              \n",
            "of                  of                  of                  \n",
            "luck                luck                luck                \n",
            "like                like                lik                 \n",
            "this                thi                 thi                 \n",
            "for                 for                 for                 \n",
            "ages                age                 ag                  \n",
            "the                 the                 the                 \n",
            "cook-sergeant       cook-serg           cook-sergeant       \n",
            "the                 the                 the                 \n",
            "one                 one                 on                  \n",
            "with                with                with                \n",
            "the                 the                 the                 \n",
            "ginger              ginger              ging                \n",
            "hair                hair                hair                \n",
            "is                  is                  is                  \n",
            "actually            actual              act                 \n",
            "offering            offer               off                 \n",
            "to                  to                  to                  \n",
            "dish                dish                dish                \n",
            "out                 out                 out                 \n",
            "food                food                food                \n",
            "beckoning           beckon              beckon              \n",
            "with                with                with                \n",
            "his                 hi                  his                 \n",
            "serving             serv                serv                \n",
            "ladle               ladl                ladl                \n",
            "to                  to                  to                  \n",
            "anyone              anyon               anyon               \n",
            "who                 who                 who                 \n",
            "comes               come                com                 \n",
            "near                near                near                \n",
            "him                 him                 him                 \n",
            "and                 and                 and                 \n",
            "giving              give                giv                 \n",
            "him                 him                 him                 \n",
            "a                   a                   a                   \n",
            "massive             massiv              mass                \n",
            "helping             help                help                \n",
            "[('We', 'PRON'), ('are', 'VERB'), ('in', 'ADP'), ('camp', 'ADJ'), ('five', 'NUM'), ('miles', 'NOUN'), ('behind', 'ADP'), ('the', 'DET'), ('line', 'NOUN'), ('.', '.'), ('Yesterday', 'NOUN'), ('our', 'PRON'), ('relief', 'NOUN'), ('arrived', 'VERB'), (';', '.'), ('now', 'ADV'), ('our', 'PRON'), ('bellies', 'NOUN'), ('are', 'VERB'), ('full', 'ADJ'), ('of', 'ADP'), ('bully', 'ADV'), ('beef', 'NOUN'), ('and', 'CONJ'), ('beans', 'NOUN'), (',', '.'), ('we', 'PRON'), ('’', 'VERB'), ('ve', 'ADJ'), ('had', 'VERB'), ('enough', 'ADJ'), ('to', 'PRT'), ('eat', 'VERB'), ('and', 'CONJ'), ('we', 'PRON'), ('’', 'VERB'), ('re', 'ADV'), ('well', 'ADV'), ('satisfied', 'ADJ'), ('.', '.'), ('We', 'PRON'), ('were', 'VERB'), ('even', 'ADV'), ('able', 'ADJ'), ('to', 'PRT'), ('fill', 'VERB'), ('up', 'PRT'), ('a', 'DET'), ('mess-tin', 'NOUN'), ('for', 'ADP'), ('later', 'ADV'), (',', '.'), ('every', 'DET'), ('one', 'NUM'), ('of', 'ADP'), ('us', 'PRON'), (',', '.'), ('and', 'CONJ'), ('there', 'DET'), ('are', 'VERB'), ('double', 'ADJ'), ('rations', 'NOUN'), ('of', 'ADP'), ('sausage', 'NOUN'), ('and', 'CONJ'), ('bread', 'NOUN'), ('as', 'ADV'), ('well', 'ADV'), ('–', 'ADP'), ('that', 'DET'), ('will', 'VERB'), ('keep', 'VERB'), ('us', 'PRON'), ('going', 'VERB'), ('.', '.'), ('We', 'PRON'), ('haven', 'VERB'), ('’', 'ADJ'), ('t', 'NOUN'), ('had', 'VERB'), ('a', 'DET'), ('stroke', 'NOUN'), ('of', 'ADP'), ('luck', 'NOUN'), ('like', 'ADP'), ('this', 'DET'), ('for', 'ADP'), ('ages', 'NOUN'), (';', '.'), ('the', 'DET'), ('cook-sergeant', 'NOUN'), (',', '.'), ('the', 'DET'), ('one', 'NOUN'), ('with', 'ADP'), ('the', 'DET'), ('ginger', 'NOUN'), ('hair', 'NOUN'), (',', '.'), ('is', 'VERB'), ('actually', 'ADV'), ('offering', 'VERB'), ('to', 'PRT'), ('dish', 'VERB'), ('out', 'PRT'), ('food', 'NOUN'), (',', '.'), ('beckoning', 'VERB'), ('with', 'ADP'), ('his', 'PRON'), ('serving', 'VERB'), ('ladle', 'NOUN'), ('to', 'PRT'), ('anyone', 'NOUN'), ('who', 'PRON'), ('comes', 'VERB'), ('near', 'ADP'), ('him', 'PRON'), ('and', 'CONJ'), ('giving', 'VERB'), ('him', 'PRON'), ('a', 'DET'), ('massive', 'ADJ'), ('helping', 'VERB')]\n",
            "Word                Lemma               \n",
            "We                  We                  \n",
            "are                 be                  \n",
            "in                  in                  \n",
            "camp                camp                \n",
            "five                five                \n",
            "miles               mile                \n",
            "behind              behind              \n",
            "the                 the                 \n",
            "line                line                \n",
            "Yesterday           Yesterday           \n",
            "our                 our                 \n",
            "relief              relief              \n",
            "arrived             arrive              \n",
            "now                 now                 \n",
            "our                 our                 \n",
            "bellies             belly               \n",
            "are                 be                  \n",
            "full                full                \n",
            "of                  of                  \n",
            "bully               bully               \n",
            "beef                beef                \n",
            "and                 and                 \n",
            "beans               bean                \n",
            "we                  we                  \n",
            "ve                  ve                  \n",
            "had                 have                \n",
            "enough              enough              \n",
            "to                  to                  \n",
            "eat                 eat                 \n",
            "and                 and                 \n",
            "we                  we                  \n",
            "re                  re                  \n",
            "well                well                \n",
            "satisfied           satisfied           \n",
            "We                  We                  \n",
            "were                be                  \n",
            "even                even                \n",
            "able                able                \n",
            "to                  to                  \n",
            "fill                fill                \n",
            "up                  up                  \n",
            "a                   a                   \n",
            "mess-tin            mess-tin            \n",
            "for                 for                 \n",
            "later               later               \n",
            "every               every               \n",
            "one                 one                 \n",
            "of                  of                  \n",
            "us                  u                   \n",
            "and                 and                 \n",
            "there               there               \n",
            "are                 be                  \n",
            "double              double              \n",
            "rations             ration              \n",
            "of                  of                  \n",
            "sausage             sausage             \n",
            "and                 and                 \n",
            "bread               bread               \n",
            "as                  as                  \n",
            "well                well                \n",
            "–                   –                   \n",
            "that                that                \n",
            "will                will                \n",
            "keep                keep                \n",
            "us                  u                   \n",
            "going               go                  \n",
            "We                  We                  \n",
            "haven               haven               \n",
            "t                   t                   \n",
            "had                 have                \n",
            "a                   a                   \n",
            "stroke              stroke              \n",
            "of                  of                  \n",
            "luck                luck                \n",
            "like                like                \n",
            "this                this                \n",
            "for                 for                 \n",
            "ages                age                 \n",
            "the                 the                 \n",
            "cook-sergeant       cook-sergeant       \n",
            "the                 the                 \n",
            "one                 one                 \n",
            "with                with                \n",
            "the                 the                 \n",
            "ginger              ginger              \n",
            "hair                hair                \n",
            "is                  be                  \n",
            "actually            actually            \n",
            "offering            offer               \n",
            "to                  to                  \n",
            "dish                dish                \n",
            "out                 out                 \n",
            "food                food                \n",
            "beckoning           beckon              \n",
            "with                with                \n",
            "his                 his                 \n",
            "serving             serve               \n",
            "ladle               ladle               \n",
            "to                  to                  \n",
            "anyone              anyone              \n",
            "who                 who                 \n",
            "comes               come                \n",
            "near                near                \n",
            "him                 him                 \n",
            "and                 and                 \n",
            "giving              give                \n",
            "him                 him                 \n",
            "a                   a                   \n",
            "massive             massive             \n",
            "helping             help                \n",
            "[('we', 'PRP'), ('camp', 'VBP'), ('five', 'CD'), ('miles', 'NNS'), ('behind', 'IN'), ('line', 'NN'), ('yesterday', 'NN'), ('relief', 'NN'), ('arrived', 'VBD'), ('bellies', 'NNS'), ('full', 'JJ'), ('bully', 'RB'), ('beef', 'JJ'), ('beans', 'NNS'), ('enough', 'RB'), ('eat', 'VBP'), ('well', 'RB'), ('satisfied', 'VBN'), ('we', 'PRP'), ('even', 'RB'), ('able', 'JJ'), ('fill', 'NN'), ('mess-tin', 'JJ'), ('later', 'RB'), ('every', 'DT'), ('one', 'CD'), ('us', 'PRP'), ('double', 'JJ'), ('rations', 'NNS'), ('sausage', 'NN'), ('bread', 'VBP'), ('well', 'RB'), ('–', 'RB'), ('keep', 'VB'), ('us', 'PRP'), ('going', 'VBG'), ('we', 'PRP'), ('stroke', 'VBD'), ('luck', 'PRP'), ('like', 'IN'), ('ages', 'NNS'), ('cook-sergeant', 'JJ'), ('one', 'CD'), ('ginger', 'NN'), ('hair', 'NN'), ('actually', 'RB'), ('offering', 'VBG'), ('dish', 'JJ'), ('food', 'NN'), ('beckoning', 'VBG'), ('serving', 'VBG'), ('ladle', 'JJ'), ('anyone', 'NN'), ('comes', 'VBZ'), ('near', 'IN'), ('giving', 'VBG'), ('massive', 'JJ'), ('helping', 'VBG')]\n",
            "LEMMATIZED TEXT WITHOUT STOPWORDS AND PUNCTUATION:  we camp five mile behind line yesterday relief arrive belly full bully beef bean enough eat well satisfy we even able fill mess-tin later every one us double ration sausage bread well – keep us go we stroke luck like age cook-sergeant one ginger hair actually offer dish food beckon serve ladle anyone come near give massive help\n",
            "NON-LEMMATIZED TEXT WITH PUNCTUATION AND STOPWORDS: We are in camp five miles behind the line. Yesterday our relief arrived; now our bellies are full of bully beef and beans, we’ve had enough to eat and we’re well satisfied. We were even able to fill up a mess-tin for later, every one of us, and there are double rations of sausage and bread as well – that will keep us going. We haven’t had a stroke of luck like this for ages; the cook-sergeant, the one with the ginger hair, is actually offering to dish out food, beckoning with his serving ladle to anyone who comes near him and giving him a massive helping\n"
          ]
        }
      ]
    },
    {
      "cell_type": "code",
      "source": [
        "!pip install yake"
      ],
      "metadata": {
        "colab": {
          "base_uri": "https://localhost:8080/"
        },
        "id": "QCfci6YGSPLO",
        "outputId": "577d8bb4-98ad-457f-f7dd-f9897b7c12db"
      },
      "execution_count": 5,
      "outputs": [
        {
          "output_type": "stream",
          "name": "stdout",
          "text": [
            "Looking in indexes: https://pypi.org/simple, https://us-python.pkg.dev/colab-wheels/public/simple/\n",
            "Requirement already satisfied: yake in /usr/local/lib/python3.8/dist-packages (0.4.8)\n",
            "Requirement already satisfied: numpy in /usr/local/lib/python3.8/dist-packages (from yake) (1.21.6)\n",
            "Requirement already satisfied: tabulate in /usr/local/lib/python3.8/dist-packages (from yake) (0.8.10)\n",
            "Requirement already satisfied: networkx in /usr/local/lib/python3.8/dist-packages (from yake) (2.8.8)\n",
            "Requirement already satisfied: segtok in /usr/local/lib/python3.8/dist-packages (from yake) (1.5.11)\n",
            "Requirement already satisfied: click>=6.0 in /usr/local/lib/python3.8/dist-packages (from yake) (7.1.2)\n",
            "Requirement already satisfied: jellyfish in /usr/local/lib/python3.8/dist-packages (from yake) (0.9.0)\n",
            "Requirement already satisfied: regex in /usr/local/lib/python3.8/dist-packages (from segtok->yake) (2022.6.2)\n"
          ]
        }
      ]
    },
    {
      "cell_type": "code",
      "source": [
        "import yake\n",
        "from nltk.stem import WordNetLemmatizer \n",
        "wordnet_lemmatizer = WordNetLemmatizer() \n",
        "from nltk.corpus import stopwords \n",
        "from nltk.tokenize import word_tokenize \n",
        "\n",
        "text_tokens = word_tokenize(my_text) \n",
        "tokens_without_sw = [word for word in text_tokens if not word in stopwords.words('english')] \n",
        "my_text1=' '.join(tokens_without_sw)\n",
        "\n",
        "extractor = yake.KeywordExtractor (\n",
        "\n",
        "    lan = \"en\",     # язык\n",
        "    n = 1,          # максимальное количество слов в фразе\n",
        "    dedupLim = 0.5, # порог похожести слов\n",
        "    top = 5        # количество ключевых слов\n",
        ")\n",
        "\n",
        "y = extractor.extract_keywords(my_text1)\n",
        "print(y)\n",
        "x=[]\n",
        "for i in y:\n",
        "    x.append(i[0])\n",
        "x=' '.join(x)\n",
        "print(x)\n",
        "\n",
        "import matplotlib.pyplot as plt\n",
        "from wordcloud import WordCloud\n",
        "wordcloud = WordCloud(background_color=\"white\").generate(str(x))\n",
        "\n",
        "plt.figure(figsize = (12, 12))\n",
        "plt.imshow(wordcloud)\n",
        "\n",
        "plt.axis(\"off\")\n",
        "plt.show()\n"
      ],
      "metadata": {
        "colab": {
          "base_uri": "https://localhost:8080/",
          "height": 401
        },
        "id": "B4rax5_mSHEM",
        "outputId": "065db2d3-cf22-480f-e3a0-3f078a08a9c9"
      },
      "execution_count": 6,
      "outputs": [
        {
          "output_type": "stream",
          "name": "stdout",
          "text": [
            "[('Tjaden', 0.011515927874621587), ('good', 0.01585298856909749), ('day', 0.020531693983369487), ('school', 0.02551557560206042), ('Katczinsky', 0.027208489348468597)]\n",
            "Tjaden good day school Katczinsky\n"
          ]
        },
        {
          "output_type": "display_data",
          "data": {
            "text/plain": [
              "<Figure size 864x864 with 1 Axes>"
            ],
            "image/png": "[encoded data removed]"
          },
          "metadata": {
            "needs_background": "light"
          }
        }
      ]
    },
    {
      "cell_type": "code",
      "source": [
        "import spacy \n",
        "nlp = spacy.load(\"en_core_web_sm\")"
      ],
      "metadata": {
        "id": "SvARF7nBN96H",
        "colab": {
          "base_uri": "https://localhost:8080/"
        },
        "outputId": "30bae27f-6ee1-4701-a727-6da79565bf37"
      },
      "execution_count": 7,
      "outputs": [
        {
          "output_type": "stream",
          "name": "stderr",
          "text": [
            "/usr/local/lib/python3.8/dist-packages/torch/cuda/__init__.py:497: UserWarning: Can't initialize NVML\n",
            "  warnings.warn(\"Can't initialize NVML\")\n"
          ]
        }
      ]
    },
    {
      "cell_type": "code",
      "source": [
        "from sklearn.feature_extraction.text import TfidfVectorizer\n",
        "vectorizer = TfidfVectorizer(stop_words='english')\n",
        "\n"
      ],
      "metadata": {
        "id": "B80LDBsnOUP8"
      },
      "execution_count": 8,
      "outputs": []
    },
    {
      "cell_type": "code",
      "source": [
        "print(my_text1)"
      ],
      "metadata": {
        "colab": {
          "base_uri": "https://localhost:8080/"
        },
        "id": "k5PEDBcLOUbE",
        "outputId": "891949a8-6a0c-4c84-cc80-0e29758ed092"
      },
      "execution_count": 9,
      "outputs": [
        {
          "output_type": "stream",
          "name": "stdout",
          "text": [
            "We camp five miles behind line . Yesterday relief arrived ; bellies full bully beef beans , ’ enough eat ’ well satisfied . We even able fill mess-tin later , every one us , double rations sausage bread well – keep us going . We ’ stroke luck like ages ; cook-sergeant , one ginger hair , actually offering dish food , beckoning serving ladle anyone comes near giving massive helping . He ’ getting bit worried ’ see ’ going empty cooking pot . Tjaden Muller dug couple washing bowls somewhere got fill brim reserve supply . Tjaden things like sheer greed ; Muller ’ precaution . Nobody knows Tjaden puts . He ’ thin rake always . The important thing , though , double rations tobacco well . Ten cigars , twenty cigarettes two plugs chewing tobacco everyone , ’ decent amount . I ’ swapped chewing tobacco Katczinsky cigarettes , gives forty . You last day . And top , ’ really entitled lot . The army never good us . We ’ got mistake . Fourteen days ago sent line relief troops . It pretty quiet sector , quartermaster drew normal quantity food day due back , catered full company hundred fifty men . But , last day , taken surprise long-range shelling heavy artillery . The English guns kept pounding position , lost lot men , eighty us came back . It night-time came , first thing get heads could get good night ’ sleep . Katczinsky right says war ’ nearly bad could get sleep . But chance front , two weeks every spell line long time . It already midday first us crawled huts . Within half hour every man mess-tin hand fining cookhouse , smell proper food cooked good fat . Needless say , hungriest front queue : little Albert Kropp , cleverest us , first one make acting lance-corporal . Then Muller – one five boys called school – still lugs textbooks dreams taking school leaving diploma later special regulations . He even swots physics formulae barrage going . Then Leer , beard , obsessed girls officers-only knocking-shops ; swears obliged army regulations wear silk slips , take bath entertaining guest rank captain . And fourthly , Paul Baumer . All four us nineteen years old , four us went straight class school war . Close behind us friends . Tjaden , skinny locksmith age us biggest glutton company . He ’ thin sits eat gets ’ got pot-belly ; Haie Westhus , age , peat-digger , quite easily hold army-issue loaf one great paw ask , ‘ Guess I ’ got hand ? ’ ; Detering , farmer , thinks nothing bit land wife ; finally Stanislaus Katczinsky , leader group , tough , crafty , shrewd , forty years old , earthy face , blue eyes , sloping shoulders amazing nose trouble , good food cushy jobs . Our group head grub queue . We getting impatient , cook-sergeant ’ know going still standing waiting . In end Katczinsky shouted , ‘ Come , mate , open soup kitchen ! Anyone see beans done ! ’ But shook head dozily . ‘ You ’ got first. ’ Tjaden grinned . ‘ We here. ’ The cook-sergeant still ’ get . ‘ That would suit nicely , ’ . Come , rest ? ’ ‘ They ’ getting served today . It ’ either field hospital mass grave them. ’ The cook pretty shaken heard happened . He ’ sure . ‘ But I cooked hundred fifty men. ’ Kropp elbowed ribs . ‘ So ’ get enough eat . Right , get ! ’ Suddenly light dawned Tjaden ’ eyes . His pointed , mouselike face positively glowed , eyes narrowed cunning , cheeks twitched moved closer . ‘ Bloody hell , must drawn bread rations hundred fifty men well , right ? ’ The cook-sergeant nodded , confused thinking . Tjaden grabbed tunic . ‘ Sausage , ? ’ Another nod Ginger . Tjaden ’ jaw trembling . ‘ And tobacco ? ’ ‘ Yes , whole lot. ’ Tjaden looked round , beaming face . ‘ Christ Almighty , ’ I call bit luck ! Then stuff us ! Everyone gets – hang – right , exactly double everything ! ’ When heard ginger-headed cook-sergeant realized , told us ’ . By getting bit restive , pushed forward . ‘ Why ’ , carrot-top ? ’ Katczinsky wanted know . ‘ Eighty men ’ rations hundred fifty. ’ ‘ We ’ soon show , ’ growled Muller . ‘ I ’ mind meal , I give rations eighty , ’ insisted Ginger . Katczinsky getting annoyed . ‘ Is time pensioned , ? You ’ draw provisions eighty men , drew В Company , ’ . So issue . We В Company. ’ We started crowd . He ’ popular – thanks trenches ’ got food far late , cold bargain , ’ dare bring field kitchen close enough little bit shellfire ; meant men make far longer trip fetch food companies . On score Bulcke , A Company , much better . It ’ true fat hamster winter , used carry cooking-pots right front line .\n"
          ]
        }
      ]
    },
    {
      "cell_type": "code",
      "source": [
        "corpus = []"
      ],
      "metadata": {
        "id": "HETFEybXTgGN"
      },
      "execution_count": null,
      "outputs": []
    },
    {
      "cell_type": "code",
      "source": [
        "pip uninstall scipy"
      ],
      "metadata": {
        "colab": {
          "base_uri": "https://localhost:8080/"
        },
        "id": "1NhOOCvBdvNd",
        "outputId": "2a977191-247b-46ed-c038-e09f2b43cd7a"
      },
      "execution_count": 10,
      "outputs": [
        {
          "output_type": "stream",
          "name": "stdout",
          "text": [
            "Found existing installation: scipy 1.9.3\n",
            "Uninstalling scipy-1.9.3:\n",
            "  Would remove:\n",
            "    /usr/local/lib/python3.8/dist-packages/scipy-1.9.3.dist-info/*\n",
            "    /usr/local/lib/python3.8/dist-packages/scipy.libs/libgfortran-040039e1.so.5.0.0\n",
            "    /usr/local/lib/python3.8/dist-packages/scipy.libs/libopenblasp-r0-41284840.3.18.so\n",
            "    /usr/local/lib/python3.8/dist-packages/scipy.libs/libquadmath-96973f99.so.0.0.0\n",
            "    /usr/local/lib/python3.8/dist-packages/scipy/*\n",
            "Proceed (y/n)? y\n",
            "  Successfully uninstalled scipy-1.9.3\n"
          ]
        }
      ]
    },
    {
      "cell_type": "code",
      "source": [
        "pip install git+https://github.com/boudinfl/pke.git"
      ],
      "metadata": {
        "colab": {
          "base_uri": "https://localhost:8080/"
        },
        "id": "cqh6cnUEggB3",
        "outputId": "ebf8a682-e804-46f4-da74-7d465ba0ca98"
      },
      "execution_count": 11,
      "outputs": [
        {
          "output_type": "stream",
          "name": "stdout",
          "text": [
            "Looking in indexes: https://pypi.org/simple, https://us-python.pkg.dev/colab-wheels/public/simple/\n",
            "Collecting git+https://github.com/boudinfl/pke.git\n",
            "  Cloning https://github.com/boudinfl/pke.git to /tmp/pip-req-build-kxluwuzj\n",
            "  Running command git clone -q https://github.com/boudinfl/pke.git /tmp/pip-req-build-kxluwuzj\n",
            "Requirement already satisfied: nltk in /usr/local/lib/python3.8/dist-packages (from pke==2.0.0) (3.7)\n",
            "Requirement already satisfied: networkx in /usr/local/lib/python3.8/dist-packages (from pke==2.0.0) (2.8.8)\n",
            "Requirement already satisfied: numpy in /usr/local/lib/python3.8/dist-packages (from pke==2.0.0) (1.21.6)\n",
            "Collecting scipy\n",
            "  Using cached scipy-1.9.3-cp38-cp38-manylinux_2_17_x86_64.manylinux2014_x86_64.whl (33.8 MB)\n",
            "Requirement already satisfied: scikit-learn in /usr/local/lib/python3.8/dist-packages (from pke==2.0.0) (1.0.2)\n",
            "Requirement already satisfied: unidecode in /usr/local/lib/python3.8/dist-packages (from pke==2.0.0) (1.3.6)\n",
            "Requirement already satisfied: future in /usr/local/lib/python3.8/dist-packages (from pke==2.0.0) (0.16.0)\n",
            "Requirement already satisfied: joblib in /usr/local/lib/python3.8/dist-packages (from pke==2.0.0) (1.2.0)\n",
            "Requirement already satisfied: spacy>=3.2.3 in /usr/local/lib/python3.8/dist-packages (from pke==2.0.0) (3.4.4)\n",
            "Requirement already satisfied: spacy-legacy<3.1.0,>=3.0.10 in /usr/local/lib/python3.8/dist-packages (from spacy>=3.2.3->pke==2.0.0) (3.0.10)\n",
            "Requirement already satisfied: smart-open<7.0.0,>=5.2.1 in /usr/local/lib/python3.8/dist-packages (from spacy>=3.2.3->pke==2.0.0) (6.3.0)\n",
            "Requirement already satisfied: murmurhash<1.1.0,>=0.28.0 in /usr/local/lib/python3.8/dist-packages (from spacy>=3.2.3->pke==2.0.0) (1.0.9)\n",
            "Requirement already satisfied: thinc<8.2.0,>=8.1.0 in /usr/local/lib/python3.8/dist-packages (from spacy>=3.2.3->pke==2.0.0) (8.1.5)\n",
            "Requirement already satisfied: cymem<2.1.0,>=2.0.2 in /usr/local/lib/python3.8/dist-packages (from spacy>=3.2.3->pke==2.0.0) (2.0.7)\n",
            "Requirement already satisfied: typer<0.8.0,>=0.3.0 in /usr/local/lib/python3.8/dist-packages (from spacy>=3.2.3->pke==2.0.0) (0.7.0)\n",
            "Requirement already satisfied: catalogue<2.1.0,>=2.0.6 in /usr/local/lib/python3.8/dist-packages (from spacy>=3.2.3->pke==2.0.0) (2.0.8)\n",
            "Requirement already satisfied: preshed<3.1.0,>=3.0.2 in /usr/local/lib/python3.8/dist-packages (from spacy>=3.2.3->pke==2.0.0) (3.0.8)\n",
            "Requirement already satisfied: pathy>=0.3.5 in /usr/local/lib/python3.8/dist-packages (from spacy>=3.2.3->pke==2.0.0) (0.10.1)\n",
            "Requirement already satisfied: langcodes<4.0.0,>=3.2.0 in /usr/local/lib/python3.8/dist-packages (from spacy>=3.2.3->pke==2.0.0) (3.3.0)\n",
            "Requirement already satisfied: packaging>=20.0 in /usr/local/lib/python3.8/dist-packages (from spacy>=3.2.3->pke==2.0.0) (21.3)\n",
            "Requirement already satisfied: wasabi<1.1.0,>=0.9.1 in /usr/local/lib/python3.8/dist-packages (from spacy>=3.2.3->pke==2.0.0) (0.10.1)\n",
            "Requirement already satisfied: tqdm<5.0.0,>=4.38.0 in /usr/local/lib/python3.8/dist-packages (from spacy>=3.2.3->pke==2.0.0) (4.64.1)\n",
            "Requirement already satisfied: jinja2 in /usr/local/lib/python3.8/dist-packages (from spacy>=3.2.3->pke==2.0.0) (2.11.3)\n",
            "Requirement already satisfied: pydantic!=1.8,!=1.8.1,<1.11.0,>=1.7.4 in /usr/local/lib/python3.8/dist-packages (from spacy>=3.2.3->pke==2.0.0) (1.10.2)\n",
            "Requirement already satisfied: setuptools in /usr/local/lib/python3.8/dist-packages (from spacy>=3.2.3->pke==2.0.0) (57.4.0)\n",
            "Requirement already satisfied: srsly<3.0.0,>=2.4.3 in /usr/local/lib/python3.8/dist-packages (from spacy>=3.2.3->pke==2.0.0) (2.4.5)\n",
            "Requirement already satisfied: spacy-loggers<2.0.0,>=1.0.0 in /usr/local/lib/python3.8/dist-packages (from spacy>=3.2.3->pke==2.0.0) (1.0.4)\n",
            "Requirement already satisfied: requests<3.0.0,>=2.13.0 in /usr/local/lib/python3.8/dist-packages (from spacy>=3.2.3->pke==2.0.0) (2.23.0)\n",
            "Requirement already satisfied: pyparsing!=3.0.5,>=2.0.2 in /usr/local/lib/python3.8/dist-packages (from packaging>=20.0->spacy>=3.2.3->pke==2.0.0) (3.0.9)\n",
            "Requirement already satisfied: typing-extensions>=4.1.0 in /usr/local/lib/python3.8/dist-packages (from pydantic!=1.8,!=1.8.1,<1.11.0,>=1.7.4->spacy>=3.2.3->pke==2.0.0) (4.4.0)\n",
            "Requirement already satisfied: urllib3!=1.25.0,!=1.25.1,<1.26,>=1.21.1 in /usr/local/lib/python3.8/dist-packages (from requests<3.0.0,>=2.13.0->spacy>=3.2.3->pke==2.0.0) (1.24.3)\n",
            "Requirement already satisfied: certifi>=2017.4.17 in /usr/local/lib/python3.8/dist-packages (from requests<3.0.0,>=2.13.0->spacy>=3.2.3->pke==2.0.0) (2022.12.7)\n",
            "Requirement already satisfied: idna<3,>=2.5 in /usr/local/lib/python3.8/dist-packages (from requests<3.0.0,>=2.13.0->spacy>=3.2.3->pke==2.0.0) (2.10)\n",
            "Requirement already satisfied: chardet<4,>=3.0.2 in /usr/local/lib/python3.8/dist-packages (from requests<3.0.0,>=2.13.0->spacy>=3.2.3->pke==2.0.0) (3.0.4)\n",
            "Requirement already satisfied: blis<0.8.0,>=0.7.8 in /usr/local/lib/python3.8/dist-packages (from thinc<8.2.0,>=8.1.0->spacy>=3.2.3->pke==2.0.0) (0.7.9)\n",
            "Requirement already satisfied: confection<1.0.0,>=0.0.1 in /usr/local/lib/python3.8/dist-packages (from thinc<8.2.0,>=8.1.0->spacy>=3.2.3->pke==2.0.0) (0.0.3)\n",
            "Requirement already satisfied: click<9.0.0,>=7.1.1 in /usr/local/lib/python3.8/dist-packages (from typer<0.8.0,>=0.3.0->spacy>=3.2.3->pke==2.0.0) (7.1.2)\n",
            "Requirement already satisfied: MarkupSafe>=0.23 in /usr/local/lib/python3.8/dist-packages (from jinja2->spacy>=3.2.3->pke==2.0.0) (2.0.1)\n",
            "Requirement already satisfied: regex>=2021.8.3 in /usr/local/lib/python3.8/dist-packages (from nltk->pke==2.0.0) (2022.6.2)\n",
            "Requirement already satisfied: threadpoolctl>=2.0.0 in /usr/local/lib/python3.8/dist-packages (from scikit-learn->pke==2.0.0) (3.1.0)\n",
            "Installing collected packages: scipy\n",
            "Successfully installed scipy-1.9.3\n"
          ]
        }
      ]
    },
    {
      "cell_type": "code",
      "source": [
        "import pke"
      ],
      "metadata": {
        "id": "yFUG86ueTgxq"
      },
      "execution_count": 12,
      "outputs": []
    },
    {
      "cell_type": "code",
      "source": [
        "pip uninstall networkx"
      ],
      "metadata": {
        "colab": {
          "base_uri": "https://localhost:8080/"
        },
        "id": "h-TC9G_Xeclq",
        "outputId": "0c0dc3d9-4393-48fd-bfb5-7030c873b2cf"
      },
      "execution_count": 13,
      "outputs": [
        {
          "output_type": "stream",
          "name": "stdout",
          "text": [
            "Found existing installation: networkx 2.8.8\n",
            "Uninstalling networkx-2.8.8:\n",
            "  Would remove:\n",
            "    /usr/local/lib/python3.8/dist-packages/networkx-2.8.8.dist-info/*\n",
            "    /usr/local/lib/python3.8/dist-packages/networkx/*\n",
            "    /usr/local/share/doc/networkx-2.8.8/LICENSE.txt\n",
            "    /usr/local/share/doc/networkx-2.8.8/examples/3d_drawing/README.txt\n",
            "    /usr/local/share/doc/networkx-2.8.8/examples/3d_drawing/mayavi2_spring.py\n",
            "    /usr/local/share/doc/networkx-2.8.8/examples/3d_drawing/plot_basic.py\n",
            "    /usr/local/share/doc/networkx-2.8.8/examples/README.txt\n",
            "    /usr/local/share/doc/networkx-2.8.8/examples/algorithms/README.txt\n",
            "    /usr/local/share/doc/networkx-2.8.8/examples/algorithms/WormNet.v3.benchmark.txt\n",
            "    /usr/local/share/doc/networkx-2.8.8/examples/algorithms/hartford_drug.edgelist\n",
            "    /usr/local/share/doc/networkx-2.8.8/examples/algorithms/plot_beam_search.py\n",
            "    /usr/local/share/doc/networkx-2.8.8/examples/algorithms/plot_betweenness_centrality.py\n",
            "    /usr/local/share/doc/networkx-2.8.8/examples/algorithms/plot_blockmodel.py\n",
            "    /usr/local/share/doc/networkx-2.8.8/examples/algorithms/plot_circuits.py\n",
            "    /usr/local/share/doc/networkx-2.8.8/examples/algorithms/plot_davis_club.py\n",
            "    /usr/local/share/doc/networkx-2.8.8/examples/algorithms/plot_dedensification.py\n",
            "    /usr/local/share/doc/networkx-2.8.8/examples/algorithms/plot_iterated_dynamical_systems.py\n",
            "    /usr/local/share/doc/networkx-2.8.8/examples/algorithms/plot_krackhardt_centrality.py\n",
            "    /usr/local/share/doc/networkx-2.8.8/examples/algorithms/plot_parallel_betweenness.py\n",
            "    /usr/local/share/doc/networkx-2.8.8/examples/algorithms/plot_rcm.py\n",
            "    /usr/local/share/doc/networkx-2.8.8/examples/algorithms/plot_snap.py\n",
            "    /usr/local/share/doc/networkx-2.8.8/examples/algorithms/plot_subgraphs.py\n",
            "    /usr/local/share/doc/networkx-2.8.8/examples/basic/README.txt\n",
            "    /usr/local/share/doc/networkx-2.8.8/examples/basic/plot_properties.py\n",
            "    /usr/local/share/doc/networkx-2.8.8/examples/basic/plot_read_write.py\n",
            "    /usr/local/share/doc/networkx-2.8.8/examples/basic/plot_simple_graph.py\n",
            "    /usr/local/share/doc/networkx-2.8.8/examples/drawing/README.txt\n",
            "    /usr/local/share/doc/networkx-2.8.8/examples/drawing/chess_masters_WCC.pgn.bz2\n",
            "    /usr/local/share/doc/networkx-2.8.8/examples/drawing/knuth_miles.txt.gz\n",
            "    /usr/local/share/doc/networkx-2.8.8/examples/drawing/plot_chess_masters.py\n",
            "    /usr/local/share/doc/networkx-2.8.8/examples/drawing/plot_custom_node_icons.py\n",
            "    /usr/local/share/doc/networkx-2.8.8/examples/drawing/plot_degree.py\n",
            "    /usr/local/share/doc/networkx-2.8.8/examples/drawing/plot_directed.py\n",
            "    /usr/local/share/doc/networkx-2.8.8/examples/drawing/plot_edge_colormap.py\n",
            "    /usr/local/share/doc/networkx-2.8.8/examples/drawing/plot_ego_graph.py\n",
            "    /usr/local/share/doc/networkx-2.8.8/examples/drawing/plot_eigenvalues.py\n",
            "    /usr/local/share/doc/networkx-2.8.8/examples/drawing/plot_four_grids.py\n",
            "    /usr/local/share/doc/networkx-2.8.8/examples/drawing/plot_house_with_colors.py\n",
            "    /usr/local/share/doc/networkx-2.8.8/examples/drawing/plot_knuth_miles.py\n",
            "    /usr/local/share/doc/networkx-2.8.8/examples/drawing/plot_labels_and_colors.py\n",
            "    /usr/local/share/doc/networkx-2.8.8/examples/drawing/plot_multipartite_graph.py\n",
            "    /usr/local/share/doc/networkx-2.8.8/examples/drawing/plot_node_colormap.py\n",
            "    /usr/local/share/doc/networkx-2.8.8/examples/drawing/plot_rainbow_coloring.py\n",
            "    /usr/local/share/doc/networkx-2.8.8/examples/drawing/plot_random_geometric_graph.py\n",
            "    /usr/local/share/doc/networkx-2.8.8/examples/drawing/plot_sampson.py\n",
            "    /usr/local/share/doc/networkx-2.8.8/examples/drawing/plot_selfloops.py\n",
            "    /usr/local/share/doc/networkx-2.8.8/examples/drawing/plot_simple_path.py\n",
            "    /usr/local/share/doc/networkx-2.8.8/examples/drawing/plot_spectral_grid.py\n",
            "    /usr/local/share/doc/networkx-2.8.8/examples/drawing/plot_tsp.py\n",
            "    /usr/local/share/doc/networkx-2.8.8/examples/drawing/plot_unix_email.py\n",
            "    /usr/local/share/doc/networkx-2.8.8/examples/drawing/plot_weighted_graph.py\n",
            "    /usr/local/share/doc/networkx-2.8.8/examples/drawing/unix_email.mbox\n",
            "    /usr/local/share/doc/networkx-2.8.8/examples/graph/README.txt\n",
            "    /usr/local/share/doc/networkx-2.8.8/examples/graph/plot_degree_sequence.py\n",
            "    /usr/local/share/doc/networkx-2.8.8/examples/graph/plot_erdos_renyi.py\n",
            "    /usr/local/share/doc/networkx-2.8.8/examples/graph/plot_expected_degree_sequence.py\n",
            "    /usr/local/share/doc/networkx-2.8.8/examples/graph/plot_football.py\n",
            "    /usr/local/share/doc/networkx-2.8.8/examples/graph/plot_karate_club.py\n",
            "    /usr/local/share/doc/networkx-2.8.8/examples/graph/plot_morse_trie.py\n",
            "    /usr/local/share/doc/networkx-2.8.8/examples/graph/plot_napoleon_russian_campaign.py\n",
            "    /usr/local/share/doc/networkx-2.8.8/examples/graph/plot_roget.py\n",
            "    /usr/local/share/doc/networkx-2.8.8/examples/graph/plot_words.py\n",
            "    /usr/local/share/doc/networkx-2.8.8/examples/graph/roget_dat.txt.gz\n",
            "    /usr/local/share/doc/networkx-2.8.8/examples/graph/words_dat.txt.gz\n",
            "    /usr/local/share/doc/networkx-2.8.8/examples/subclass/README.txt\n",
            "    /usr/local/share/doc/networkx-2.8.8/examples/subclass/plot_antigraph.py\n",
            "    /usr/local/share/doc/networkx-2.8.8/examples/subclass/plot_printgraph.py\n",
            "Proceed (y/n)? y\n",
            "  Successfully uninstalled networkx-2.8.8\n"
          ]
        }
      ]
    },
    {
      "cell_type": "code",
      "source": [
        "pip install --upgrade scipy networkx"
      ],
      "metadata": {
        "id": "3CLSu2blfPgo",
        "outputId": "1669d797-aa03-4d59-a8c1-bb05f61d0a4f",
        "colab": {
          "base_uri": "https://localhost:8080/",
          "height": 225
        }
      },
      "execution_count": 14,
      "outputs": [
        {
          "output_type": "stream",
          "name": "stdout",
          "text": [
            "Looking in indexes: https://pypi.org/simple, https://us-python.pkg.dev/colab-wheels/public/simple/\n",
            "Requirement already satisfied: scipy in /usr/local/lib/python3.8/dist-packages (1.9.3)\n",
            "Collecting networkx\n",
            "  Using cached networkx-2.8.8-py3-none-any.whl (2.0 MB)\n",
            "Requirement already satisfied: numpy<1.26.0,>=1.18.5 in /usr/local/lib/python3.8/dist-packages (from scipy) (1.21.6)\n",
            "Installing collected packages: networkx\n",
            "Successfully installed networkx-2.8.8\n"
          ]
        },
        {
          "output_type": "display_data",
          "data": {
            "application/vnd.colab-display-data+json": {
              "pip_warning": {
                "packages": [
                  "networkx"
                ]
              }
            }
          },
          "metadata": {}
        }
      ]
    },
    {
      "cell_type": "code",
      "source": [
        "#TopicRank\n",
        "extractor=pke.unsupervised.TopicRank()\n",
        "extractor.load_document(input=my_text1, language='en')\n",
        "extractor.candidate_selection()\n",
        "extractor.candidate_weighting()\n",
        "keyphrases = extractor.get_n_best(n=5)\n",
        "keyphrases"
      ],
      "metadata": {
        "colab": {
          "base_uri": "https://localhost:8080/"
        },
        "id": "0TF0WZv0aLrO",
        "outputId": "d4127820-f53b-4f0a-85b5-0ea4fbd19eff"
      },
      "execution_count": 21,
      "outputs": [
        {
          "output_type": "execute_result",
          "data": {
            "text/plain": [
              "[('tjaden things', 0.04044773153837518),\n",
              " ('men', 0.0251670475119584),\n",
              " ('katczinsky', 0.024663235398254147),\n",
              " ('cook-sergeant', 0.022010808315213123),\n",
              " ('tjaden muller', 0.020341989314710464)]"
            ]
          },
          "metadata": {},
          "execution_count": 21
        }
      ]
    },
    {
      "cell_type": "code",
      "source": [
        "extractor=pke.unsupervised.TextRank()\n",
        "extractor.load_document(input=my_text1, language='en', normalization=None)\n",
        "extractor.candidate_weighting(window=2, pos={'NOUN', 'PROPN', 'ADJ'}, top_percent=0.33)\n",
        "keyphrases=extractor.get_n_best(n=5)\n",
        "keyphrases"
      ],
      "metadata": {
        "colab": {
          "base_uri": "https://localhost:8080/"
        },
        "id": "aIG0jISZkymh",
        "outputId": "2edaad61-3052-4cd4-bc52-01c97a95dc12"
      },
      "execution_count": 37,
      "outputs": [
        {
          "output_type": "stream",
          "name": "stderr",
          "text": [
            "WARNING:root:Candidates are generated using 0.33-top\n"
          ]
        },
        {
          "output_type": "execute_result",
          "data": {
            "text/plain": [
              "[('quantity food day', 0.03210996105069792),\n",
              " ('good food cushy', 0.03164441555931268),\n",
              " ('enough little bit', 0.031080760654071837),\n",
              " ('right front line', 0.02905814762891356),\n",
              " ('group head grub queue', 0.022911452603532657)]"
            ]
          },
          "metadata": {},
          "execution_count": 37
        }
      ]
    },
    {
      "cell_type": "markdown",
      "source": [
        "# Новый раздел"
      ],
      "metadata": {
        "id": "CwYZVY5NVla0"
      }
    },
    {
      "cell_type": "markdown",
      "source": [
        "# Новый раздел"
      ],
      "metadata": {
        "id": "8XxQMwvmVlza"
      }
    }
  ]
}